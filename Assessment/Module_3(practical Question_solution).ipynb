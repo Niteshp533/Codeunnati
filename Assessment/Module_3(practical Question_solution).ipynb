{
 "cells": [
  {
   "cell_type": "code",
   "execution_count": 1,
   "id": "f232fddd",
   "metadata": {},
   "outputs": [],
   "source": [
    "#Unit-I Data Manipulation with Pandas (Attempt Any 3)\n",
    "#Q. 1. Create a Pandas DataFrame with below given two-dimensional list \n",
    "#          [['Ram', 25], ['Ramesh', 30], ['Shyam', 26], ['Naresh', 22]]"
   ]
  },
  {
   "cell_type": "code",
   "execution_count": 2,
   "id": "47052bce",
   "metadata": {},
   "outputs": [],
   "source": [
    "import pandas as pd "
   ]
  },
  {
   "cell_type": "code",
   "execution_count": 3,
   "id": "14290942",
   "metadata": {},
   "outputs": [
    {
     "name": "stdout",
     "output_type": "stream",
     "text": [
      "        0   1\n",
      "0     Ram  25\n",
      "1  Ramesh  30\n",
      "2   Shyam  26\n",
      "3  Naresh  22\n"
     ]
    }
   ],
   "source": [
    "data=[['Ram', 25], ['Ramesh', 30], ['Shyam', 26], ['Naresh', 22]]\n",
    "df=pd.DataFrame(data)\n",
    "print(df)"
   ]
  },
  {
   "cell_type": "code",
   "execution_count": 4,
   "id": "51413eb8",
   "metadata": {},
   "outputs": [],
   "source": [
    "#Q. 2.  Create a Pandas DataFrame with below given dictionary object?\n",
    "#data = {'Subject':['Math', 'Physics', 'Chemistry'],  'Marks':[20, 21, 19]}"
   ]
  },
  {
   "cell_type": "code",
   "execution_count": 5,
   "id": "d734aa51",
   "metadata": {},
   "outputs": [
    {
     "name": "stdout",
     "output_type": "stream",
     "text": [
      "     Subject  Marks\n",
      "0       Math     20\n",
      "1    Physics     21\n",
      "2  Chemistry     19\n"
     ]
    }
   ],
   "source": [
    "data = {'Subject':['Math', 'Physics', 'Chemistry'],  'Marks':[20, 21, 19]}\n",
    "DF=pd.DataFrame(data)\n",
    "print(DF)"
   ]
  },
  {
   "cell_type": "code",
   "execution_count": 6,
   "id": "83e47632",
   "metadata": {},
   "outputs": [],
   "source": [
    "#Q. 3. Create a JSON file for below object and Create a Pandas DataFrame using the created JSON file?\n",
    "#         {\"Courses\":{\"r1\":\"Spark\"},\"Fee\":{\"r1\":\"25000\"},\"Duration\":{\"r1\":\"50 Days\"}} "
   ]
  },
  {
   "cell_type": "code",
   "execution_count": 7,
   "id": "59f177b5",
   "metadata": {},
   "outputs": [
    {
     "name": "stdout",
     "output_type": "stream",
     "text": [
      "{\n",
      "    \"Courses\": {\n",
      "        \"r1\": \"Spark\"\n",
      "    },\n",
      "    \"Fee\": {\n",
      "        \"r1\": \"25000\"\n",
      "    },\n",
      "    \"Duration\": {\n",
      "        \"r1\": \"50 Days\"\n",
      "    }\n",
      "}\n"
     ]
    }
   ],
   "source": [
    "import json \n",
    "dict={\"Courses\":{\"r1\":\"Spark\"},\"Fee\":{\"r1\":\"25000\"},\"Duration\":{\"r1\":\"50 Days\"}}\n",
    "json_obj = json.dumps(dict, indent = 4)  #Here, indent – defines the number of units for indentation \n",
    "print(json_obj)"
   ]
  },
  {
   "cell_type": "code",
   "execution_count": 8,
   "id": "23264f3b",
   "metadata": {},
   "outputs": [
    {
     "name": "stdout",
     "output_type": "stream",
     "text": [
      "   Courses    Fee Duration\n",
      "r1   Spark  25000  50 Days\n"
     ]
    }
   ],
   "source": [
    "import pandas as pd\n",
    "df = pd.read_json(json_obj)\n",
    "print(df)"
   ]
  },
  {
   "cell_type": "code",
   "execution_count": 9,
   "id": "6362d225",
   "metadata": {},
   "outputs": [],
   "source": [
    "#Unit-II Python GUI - Tkinter (Attempt Any 1)\n",
    "#1. Create Python Tkinter GUI program to add a button in your application using tkinter module."
   ]
  },
  {
   "cell_type": "code",
   "execution_count": 10,
   "id": "c3dcf38f",
   "metadata": {},
   "outputs": [],
   "source": [
    "import tkinter as tk \n",
    "win = tk.Tk() \n",
    "win.title('Title - button') \n",
    "btn = tk.Button(win, text='Quit', height=1, width=35, command=win.destroy) \n",
    "btn.pack()        #pack() method: It organizes the widgets in blocks before placing in the parent widget.\n",
    "win.mainloop()    # mainloop() is used when your application is ready to run."
   ]
  },
  {
   "cell_type": "code",
   "execution_count": 11,
   "id": "1e9f9bf7",
   "metadata": {},
   "outputs": [],
   "source": [
    "#Unit-III Machine Learning (Attempt Any 2)\n",
    "\n",
    "#Q. 1. Create Python Jupyter notebook of Sk-Learn program using Linear Regression(LR) technique to train a LR model for prediction of house prices?\n",
    "#Dataset:\n",
    "#https://github.com/Shreyansh81/House-Price-Prediction/raw/main/Housing%20Information.csv"
   ]
  },
  {
   "cell_type": "code",
   "execution_count": 12,
   "id": "ce3f517c",
   "metadata": {},
   "outputs": [],
   "source": [
    "import pandas as pd \n",
    "import numpy as np\n",
    "import matplotlib.pyplot as plt \n",
    "import seaborn as sns\n",
    "from sklearn.model_selection import train_test_split\n",
    "from sklearn.linear_model import LinearRegression\n",
    "%matplotlib inline"
   ]
  },
  {
   "cell_type": "code",
   "execution_count": 13,
   "id": "e944cbef",
   "metadata": {},
   "outputs": [
    {
     "data": {
      "text/html": [
       "<div>\n",
       "<style scoped>\n",
       "    .dataframe tbody tr th:only-of-type {\n",
       "        vertical-align: middle;\n",
       "    }\n",
       "\n",
       "    .dataframe tbody tr th {\n",
       "        vertical-align: top;\n",
       "    }\n",
       "\n",
       "    .dataframe thead th {\n",
       "        text-align: right;\n",
       "    }\n",
       "</style>\n",
       "<table border=\"1\" class=\"dataframe\">\n",
       "  <thead>\n",
       "    <tr style=\"text-align: right;\">\n",
       "      <th></th>\n",
       "      <th>Avg. Area Income</th>\n",
       "      <th>Avg. Area House Age</th>\n",
       "      <th>Avg. Area Number of Rooms</th>\n",
       "      <th>Avg. Area Number of Bedrooms</th>\n",
       "      <th>Area Population</th>\n",
       "      <th>Price</th>\n",
       "      <th>Address</th>\n",
       "    </tr>\n",
       "  </thead>\n",
       "  <tbody>\n",
       "    <tr>\n",
       "      <th>0</th>\n",
       "      <td>79545.458574</td>\n",
       "      <td>5.682861</td>\n",
       "      <td>7.009188</td>\n",
       "      <td>4.09</td>\n",
       "      <td>23086.800503</td>\n",
       "      <td>1.059034e+06</td>\n",
       "      <td>208 Michael Ferry Apt. 674\\nLaurabury, NE 3701...</td>\n",
       "    </tr>\n",
       "    <tr>\n",
       "      <th>1</th>\n",
       "      <td>79248.642455</td>\n",
       "      <td>6.002900</td>\n",
       "      <td>6.730821</td>\n",
       "      <td>3.09</td>\n",
       "      <td>40173.072174</td>\n",
       "      <td>1.505891e+06</td>\n",
       "      <td>188 Johnson Views Suite 079\\nLake Kathleen, CA...</td>\n",
       "    </tr>\n",
       "    <tr>\n",
       "      <th>2</th>\n",
       "      <td>61287.067179</td>\n",
       "      <td>5.865890</td>\n",
       "      <td>8.512727</td>\n",
       "      <td>5.13</td>\n",
       "      <td>36882.159400</td>\n",
       "      <td>1.058988e+06</td>\n",
       "      <td>9127 Elizabeth Stravenue\\nDanieltown, WI 06482...</td>\n",
       "    </tr>\n",
       "    <tr>\n",
       "      <th>3</th>\n",
       "      <td>63345.240046</td>\n",
       "      <td>7.188236</td>\n",
       "      <td>5.586729</td>\n",
       "      <td>3.26</td>\n",
       "      <td>34310.242831</td>\n",
       "      <td>1.260617e+06</td>\n",
       "      <td>USS Barnett\\nFPO AP 44820</td>\n",
       "    </tr>\n",
       "    <tr>\n",
       "      <th>4</th>\n",
       "      <td>59982.197226</td>\n",
       "      <td>5.040555</td>\n",
       "      <td>7.839388</td>\n",
       "      <td>4.23</td>\n",
       "      <td>26354.109472</td>\n",
       "      <td>6.309435e+05</td>\n",
       "      <td>USNS Raymond\\nFPO AE 09386</td>\n",
       "    </tr>\n",
       "  </tbody>\n",
       "</table>\n",
       "</div>"
      ],
      "text/plain": [
       "   Avg. Area Income  Avg. Area House Age  Avg. Area Number of Rooms  \\\n",
       "0      79545.458574             5.682861                   7.009188   \n",
       "1      79248.642455             6.002900                   6.730821   \n",
       "2      61287.067179             5.865890                   8.512727   \n",
       "3      63345.240046             7.188236                   5.586729   \n",
       "4      59982.197226             5.040555                   7.839388   \n",
       "\n",
       "   Avg. Area Number of Bedrooms  Area Population         Price  \\\n",
       "0                          4.09     23086.800503  1.059034e+06   \n",
       "1                          3.09     40173.072174  1.505891e+06   \n",
       "2                          5.13     36882.159400  1.058988e+06   \n",
       "3                          3.26     34310.242831  1.260617e+06   \n",
       "4                          4.23     26354.109472  6.309435e+05   \n",
       "\n",
       "                                             Address  \n",
       "0  208 Michael Ferry Apt. 674\\nLaurabury, NE 3701...  \n",
       "1  188 Johnson Views Suite 079\\nLake Kathleen, CA...  \n",
       "2  9127 Elizabeth Stravenue\\nDanieltown, WI 06482...  \n",
       "3                          USS Barnett\\nFPO AP 44820  \n",
       "4                         USNS Raymond\\nFPO AE 09386  "
      ]
     },
     "execution_count": 13,
     "metadata": {},
     "output_type": "execute_result"
    }
   ],
   "source": [
    "hos=pd.read_csv('HousingInformation.csv')\n",
    "hos.head()"
   ]
  },
  {
   "cell_type": "code",
   "execution_count": 14,
   "id": "90525719",
   "metadata": {},
   "outputs": [
    {
     "data": {
      "text/plain": [
       "Index(['Avg. Area Income', 'Avg. Area House Age', 'Avg. Area Number of Rooms',\n",
       "       'Avg. Area Number of Bedrooms', 'Area Population', 'Price', 'Address'],\n",
       "      dtype='object')"
      ]
     },
     "execution_count": 14,
     "metadata": {},
     "output_type": "execute_result"
    }
   ],
   "source": [
    "hos.columns"
   ]
  },
  {
   "cell_type": "code",
   "execution_count": 15,
   "id": "526821c7",
   "metadata": {},
   "outputs": [],
   "source": [
    "x=hos[['Avg. Area Income', 'Avg. Area House Age', 'Avg. Area Number of Rooms',\n",
    "       'Avg. Area Number of Bedrooms', 'Area Population']]\n",
    "y=hos[['Price']]"
   ]
  },
  {
   "cell_type": "code",
   "execution_count": 16,
   "id": "a5df0dde",
   "metadata": {},
   "outputs": [],
   "source": [
    "x_train,x_test,y_train,y_test = train_test_split(x,y,test_size=0.4, random_state=101)"
   ]
  },
  {
   "cell_type": "code",
   "execution_count": 17,
   "id": "5c4baad6",
   "metadata": {},
   "outputs": [
    {
     "data": {
      "text/plain": [
       "LinearRegression()"
      ]
     },
     "execution_count": 17,
     "metadata": {},
     "output_type": "execute_result"
    }
   ],
   "source": [
    "lin=LinearRegression()\n",
    "lin.fit(x_train,y_train)"
   ]
  },
  {
   "cell_type": "code",
   "execution_count": 18,
   "id": "8e2a03f3",
   "metadata": {},
   "outputs": [
    {
     "name": "stdout",
     "output_type": "stream",
     "text": [
      "[-2640159.79685163]\n"
     ]
    }
   ],
   "source": [
    "print(lin.intercept_)"
   ]
  },
  {
   "cell_type": "code",
   "execution_count": 19,
   "id": "a993426f",
   "metadata": {},
   "outputs": [],
   "source": [
    "#3.  Create Python Jupyter notebook of Sk-Learn program using Support Vector Machine(SVM) to classify cancer samples diagnosed as Benign or Malignant \n",
    "#Dataset: https://raw.githubusercontent.com/AgustinCdeCelis/Cancer-Logistic-Regression/main/data.csv"
   ]
  },
  {
   "cell_type": "code",
   "execution_count": 20,
   "id": "e4b7e60c",
   "metadata": {},
   "outputs": [
    {
     "data": {
      "text/plain": [
       "SVC()"
      ]
     },
     "execution_count": 20,
     "metadata": {},
     "output_type": "execute_result"
    }
   ],
   "source": [
    "import pandas as pd\n",
    "import numpy as np\n",
    "from sklearn.model_selection import train_test_split\n",
    "from sklearn.svm import SVC\n",
    "from sklearn.metrics import accuracy_score\n",
    "\n",
    "data = pd.read_csv(\"data.csv\")\n",
    "\n",
    "# Selecting relevant features\n",
    "X = data[['id', 'radius_mean', 'texture_mean', 'perimeter_mean',\n",
    "       'area_mean', 'smoothness_mean', 'compactness_mean', 'concavity_mean',\n",
    "       'concave points_mean', 'symmetry_mean', 'fractal_dimension_mean',\n",
    "       'radius_se', 'texture_se', 'perimeter_se', 'area_se', 'smoothness_se',\n",
    "       'compactness_se', 'concavity_se', 'concave points_se', 'symmetry_se',\n",
    "       'fractal_dimension_se', 'radius_worst', 'texture_worst',\n",
    "       'perimeter_worst', 'area_worst', 'smoothness_worst',\n",
    "       'compactness_worst', 'concavity_worst', 'concave points_worst',\n",
    "       'symmetry_worst', 'fractal_dimension_worst']]\n",
    "y = data['diagnosis']\n",
    "\n",
    "\n",
    "\n",
    "# Splitting the data into training and testing sets\n",
    "X_train, X_test, y_train, y_test = train_test_split(X, y, test_size=0.3, random_state=101)\n",
    "\n",
    "# Initializing the SVM model & Fitting the model on the training data\n",
    "svm = SVC()\n",
    "svm.fit(X_train, y_train)"
   ]
  },
  {
   "cell_type": "code",
   "execution_count": 21,
   "id": "49895154",
   "metadata": {},
   "outputs": [
    {
     "name": "stdout",
     "output_type": "stream",
     "text": [
      "Accuracy:  0.6140350877192983\n"
     ]
    }
   ],
   "source": [
    "# Calculating the accuracy score & Predicting on the test data \n",
    "y_pred = svm.predict(X_test)\n",
    "acc = accuracy_score(y_test, y_pred)\n",
    "print(\"Accuracy: \", acc)"
   ]
  },
  {
   "cell_type": "code",
   "execution_count": null,
   "id": "4e0d358c",
   "metadata": {},
   "outputs": [],
   "source": []
  }
 ],
 "metadata": {
  "kernelspec": {
   "display_name": "Python 3 (ipykernel)",
   "language": "python",
   "name": "python3"
  },
  "language_info": {
   "codemirror_mode": {
    "name": "ipython",
    "version": 3
   },
   "file_extension": ".py",
   "mimetype": "text/x-python",
   "name": "python",
   "nbconvert_exporter": "python",
   "pygments_lexer": "ipython3",
   "version": "3.9.13"
  }
 },
 "nbformat": 4,
 "nbformat_minor": 5
}
