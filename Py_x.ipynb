{
 "cells": [
  {
   "cell_type": "markdown",
   "id": "4185f757",
   "metadata": {},
   "source": [
    "# Basically Python categories into three datatype.\n",
    "#### 1.Basic_datatype(int, float, string, complex, bool)\n",
    "#### 2.Container_datatype (list, tuple, sets, dictionary)\n",
    "#### 3.User_defined (class)"
   ]
  },
  {
   "cell_type": "code",
   "execution_count": 1,
   "id": "6937cca9",
   "metadata": {},
   "outputs": [
    {
     "name": "stdout",
     "output_type": "stream",
     "text": [
      "4\n",
      "1e+308\n",
      "inf\n"
     ]
    }
   ],
   "source": [
    "#integer\n",
    "print(4)\n",
    "print(1e308)\n",
    "print(1e309)"
   ]
  },
  {
   "cell_type": "code",
   "execution_count": 2,
   "id": "6792c049",
   "metadata": {},
   "outputs": [
    {
     "name": "stdout",
     "output_type": "stream",
     "text": [
      "45.2\n",
      "1.7e+308\n",
      "inf\n"
     ]
    }
   ],
   "source": [
    "#float\n",
    "print(45.2)\n",
    "print(1.7e308)\n",
    "print(1.7e309)"
   ]
  },
  {
   "cell_type": "code",
   "execution_count": 3,
   "id": "766d533d",
   "metadata": {},
   "outputs": [
    {
     "name": "stdout",
     "output_type": "stream",
     "text": [
      "True\n",
      "False\n"
     ]
    }
   ],
   "source": [
    "#bool\n",
    "print(True)\n",
    "print(False)"
   ]
  },
  {
   "cell_type": "code",
   "execution_count": 4,
   "id": "6b12edc2",
   "metadata": {},
   "outputs": [
    {
     "name": "stdout",
     "output_type": "stream",
     "text": [
      "Hey, i am Nitesh.\n",
      "Hey, i am Nitesh.\n",
      "Hey, i am Nitesh.\n"
     ]
    }
   ],
   "source": [
    "#strings\n",
    "print('Hey, i am Nitesh.')\n",
    "print(\"Hey, i am Nitesh.\")\n",
    "print('''Hey, i am Nitesh.''')"
   ]
  },
  {
   "cell_type": "code",
   "execution_count": 5,
   "id": "05f9c51b",
   "metadata": {},
   "outputs": [
    {
     "name": "stdout",
     "output_type": "stream",
     "text": [
      "(23+34j)\n",
      "(-0-4j)\n"
     ]
    }
   ],
   "source": [
    "#comple\n",
    "print(23+ 34j)\n",
    "print(-4j)"
   ]
  },
  {
   "cell_type": "code",
   "execution_count": 6,
   "id": "e1e4ae4a",
   "metadata": {},
   "outputs": [
    {
     "name": "stdout",
     "output_type": "stream",
     "text": [
      "[1, 2, 2, 3, 4]\n"
     ]
    }
   ],
   "source": [
    "#list\n",
    "print([1,2,2,3,4])"
   ]
  },
  {
   "cell_type": "code",
   "execution_count": 7,
   "id": "164284bd",
   "metadata": {},
   "outputs": [
    {
     "name": "stdout",
     "output_type": "stream",
     "text": [
      "(1, 2, 2, 3, 4)\n"
     ]
    }
   ],
   "source": [
    "#tuple \n",
    "print((1,2,2,3,4))"
   ]
  },
  {
   "cell_type": "code",
   "execution_count": 8,
   "id": "64dc1fbf",
   "metadata": {},
   "outputs": [
    {
     "name": "stdout",
     "output_type": "stream",
     "text": [
      "{1, 2, 3, 4}\n"
     ]
    }
   ],
   "source": [
    "#stes\n",
    "print({1,2,2,3,4})"
   ]
  },
  {
   "cell_type": "code",
   "execution_count": 9,
   "id": "62cd1917",
   "metadata": {},
   "outputs": [
    {
     "name": "stdout",
     "output_type": "stream",
     "text": [
      "{1: 'Software Engineer', 2: 'Database Engineer', 3: 'web developer'}\n"
     ]
    }
   ],
   "source": [
    "#Dictionary\n",
    "print({1:\"Software Engineer\", 2:\"Database Engineer\", 3:\"web developer\"})"
   ]
  },
  {
   "cell_type": "code",
   "execution_count": 10,
   "id": "c031d639",
   "metadata": {},
   "outputs": [],
   "source": [
    "#No need to declaration of variable\n",
    "#Dynamic Typing -- PHP, Python (it means No need to specifing data type of variable) \n",
    "#Static Typing -- Specifying data type"
   ]
  },
  {
   "cell_type": "code",
   "execution_count": 11,
   "id": "8f5687b3",
   "metadata": {},
   "outputs": [
    {
     "name": "stdout",
     "output_type": "stream",
     "text": [
      "Hello\n"
     ]
    }
   ],
   "source": [
    "name = 'Hello'\n",
    "print(name)"
   ]
  },
  {
   "cell_type": "code",
   "execution_count": 12,
   "id": "36de745a",
   "metadata": {},
   "outputs": [
    {
     "name": "stdout",
     "output_type": "stream",
     "text": [
      "455.5\n"
     ]
    }
   ],
   "source": [
    "name = 455.5    # This feature of python is called Dynamic-binding, \n",
    "print(name)     # means we assign multiple differ datatyprd value to same variable"
   ]
  },
  {
   "cell_type": "code",
   "execution_count": 13,
   "id": "429f868b",
   "metadata": {},
   "outputs": [
    {
     "name": "stdout",
     "output_type": "stream",
     "text": [
      "2\n",
      "45\n",
      "33.45\n"
     ]
    }
   ],
   "source": [
    "#special syntax\n",
    "a =2;b=45;c=33.45\n",
    "print(a)\n",
    "print(b)\n",
    "print(c)"
   ]
  },
  {
   "cell_type": "code",
   "execution_count": 14,
   "id": "edbc02bf",
   "metadata": {},
   "outputs": [
    {
     "name": "stdout",
     "output_type": "stream",
     "text": [
      "2\n",
      "45\n",
      "33.45\n"
     ]
    }
   ],
   "source": [
    "a,b,c =2,45,33.45\n",
    "print(a)\n",
    "print(b)\n",
    "print(c)"
   ]
  },
  {
   "cell_type": "code",
   "execution_count": 15,
   "id": "29644836",
   "metadata": {},
   "outputs": [
    {
     "name": "stdout",
     "output_type": "stream",
     "text": [
      "24533.45\n",
      "24533.45\n",
      "24533.45\n"
     ]
    }
   ],
   "source": [
    "a=b=c=24533.45\n",
    "print(a)\n",
    "print(b)\n",
    "print(c)"
   ]
  },
  {
   "cell_type": "code",
   "execution_count": 16,
   "id": "95cfce48",
   "metadata": {},
   "outputs": [],
   "source": [
    "# keywords - it is a word that is reserved by a program bcz the word has a special meaning.\n",
    "# python is case sensitive programming language.\n",
    "# Every programming lang. has a set of kwywords that cannot be used as variable names.\n",
    "# All the keywords in python are written in lowercase except True and False."
   ]
  },
  {
   "cell_type": "code",
   "execution_count": 17,
   "id": "962de99a",
   "metadata": {},
   "outputs": [
    {
     "name": "stdout",
     "output_type": "stream",
     "text": [
      "['False', 'None', 'True', '__peg_parser__', 'and', 'as', 'assert', 'async', 'await', 'break', 'class', 'continue', 'def', 'del', 'elif', 'else', 'except', 'finally', 'for', 'from', 'global', 'if', 'import', 'in', 'is', 'lambda', 'nonlocal', 'not', 'or', 'pass', 'raise', 'return', 'try', 'while', 'with', 'yield']\n"
     ]
    }
   ],
   "source": [
    "import keyword\n",
    "print(keyword.kwlist)"
   ]
  },
  {
   "cell_type": "code",
   "execution_count": 29,
   "id": "173f2829",
   "metadata": {},
   "outputs": [
    {
     "name": "stdout",
     "output_type": "stream",
     "text": [
      "36\n",
      "3.9.13 (main, Aug 25 2022, 23:51:50) [MSC v.1916 64 bit (AMD64)]\n"
     ]
    }
   ],
   "source": [
    "import sys\n",
    "print(len(keyword.kwlist))\n",
    "print(sys.version)\n",
    "#In nwewr version of python"
   ]
  },
  {
   "cell_type": "code",
   "execution_count": 19,
   "id": "1601de03",
   "metadata": {},
   "outputs": [],
   "source": [
    "#Identifier\n",
    "#A python identifier is a name used to identify a variable, function, class, module or other object."
   ]
  },
  {
   "cell_type": "code",
   "execution_count": 20,
   "id": "7e42ee41",
   "metadata": {},
   "outputs": [],
   "source": [
    "# ADditional Knowlege\n",
    "#There two type of software - one is static software and second is dynamic software.\n",
    "#In static, there is one way communication (eg. Calender),on other hand in dynamic two communication (eg.youTube)"
   ]
  },
  {
   "cell_type": "code",
   "execution_count": 21,
   "id": "5a50cc27",
   "metadata": {},
   "outputs": [
    {
     "name": "stdout",
     "output_type": "stream",
     "text": [
      "Enter your name :hffji\n"
     ]
    },
    {
     "data": {
      "text/plain": [
       "'hffji'"
      ]
     },
     "execution_count": 21,
     "metadata": {},
     "output_type": "execute_result"
    }
   ],
   "source": [
    "input('Enter your name :')"
   ]
  },
  {
   "cell_type": "code",
   "execution_count": 33,
   "id": "e90b2f43",
   "metadata": {},
   "outputs": [],
   "source": [
    "# python support both functionalities type_conversion and type_casting.\n",
    "# In type_casting, data type is converted into another data type by programmer using casting operator.\n",
    "# In type conversion, a data type is converted into another data type by a compiler."
   ]
  },
  {
   "cell_type": "markdown",
   "id": "02382e44",
   "metadata": {},
   "source": [
    "##### For viewing documentation in python in jupyter\n",
    "use (Shift + tab)"
   ]
  },
  {
   "cell_type": "code",
   "execution_count": 22,
   "id": "41b164d5",
   "metadata": {},
   "outputs": [
    {
     "name": "stdout",
     "output_type": "stream",
     "text": [
      "Enter the first Number :23\n",
      "Enter the second Number :4\n"
     ]
    },
    {
     "data": {
      "text/plain": [
       "27"
      ]
     },
     "execution_count": 22,
     "metadata": {},
     "output_type": "execute_result"
    }
   ],
   "source": [
    "#Addition of two_Numbers\n",
    "a = int(input('Enter the first Number :'))\n",
    "b = input('Enter the second Number :')\n",
    "res = a+ int(b)\n",
    "res"
   ]
  },
  {
   "cell_type": "markdown",
   "id": "705bd059",
   "metadata": {},
   "source": [
    "### Operators\n",
    "###### 1.Arithmetics Operator \n",
    "###### 2.Comparison Operator / Relational Operator\n",
    "###### 3.Logical Operator \n",
    "###### 4.Memebership Operator \n",
    "###### 5.Indentity Operator \n",
    "###### 6.Bitwise Operator \n",
    "###### 7.Assignment Operator "
   ]
  },
  {
   "cell_type": "code",
   "execution_count": 35,
   "id": "ad6c72a9",
   "metadata": {},
   "outputs": [
    {
     "name": "stdout",
     "output_type": "stream",
     "text": [
      "8\n",
      "2\n",
      "15\n",
      "1.6666666666666667\n",
      "1\n",
      "2\n"
     ]
    }
   ],
   "source": [
    "#Arithmetics Operator\n",
    "x = 5\n",
    "y = 3\n",
    "print(x + y)\n",
    "print(x - y)\n",
    "print(x * y)\n",
    "print(x / y)\n",
    "print(x // y)\n",
    "print(x % y)"
   ]
  },
  {
   "cell_type": "code",
   "execution_count": 36,
   "id": "6a4a09c1",
   "metadata": {},
   "outputs": [
    {
     "name": "stdout",
     "output_type": "stream",
     "text": [
      "False\n",
      "True\n",
      "False\n",
      "True\n",
      "False\n",
      "True\n"
     ]
    }
   ],
   "source": [
    "#Comparison Operator\n",
    "x = 5\n",
    "y = 3\n",
    "print(x < y)\n",
    "print(x > y)\n",
    "print(x <= y)\n",
    "print(x >= y)\n",
    "print(x == y)\n",
    "print(x != y)"
   ]
  },
  {
   "cell_type": "code",
   "execution_count": 38,
   "id": "ca2f6e2c",
   "metadata": {},
   "outputs": [
    {
     "name": "stdout",
     "output_type": "stream",
     "text": [
      "False\n",
      "True\n",
      "True\n"
     ]
    }
   ],
   "source": [
    "# Logical Operator\n",
    "x = True\n",
    "y = False\n",
    "print(x and y)\n",
    "print(x or y)\n",
    "print( not y)"
   ]
  },
  {
   "cell_type": "code",
   "execution_count": 39,
   "id": "4be3bd21",
   "metadata": {},
   "outputs": [
    {
     "name": "stdout",
     "output_type": "stream",
     "text": [
      "True\n",
      "False\n"
     ]
    }
   ],
   "source": [
    "# Memebership Operator \n",
    "x = [1,2,3,4]\n",
    "y = 'Hello'\n",
    "print(1 in x)\n",
    "print('l' not in y)\n"
   ]
  },
  {
   "cell_type": "code",
   "execution_count": 45,
   "id": "814a1c00",
   "metadata": {},
   "outputs": [
    {
     "name": "stdout",
     "output_type": "stream",
     "text": [
      "4\n",
      "6\n",
      "16\n",
      "2\n",
      "-5\n"
     ]
    }
   ],
   "source": [
    "# Bitwise Operator \n",
    "x = 4 #0100\n",
    "y = 6 #0110\n",
    "print(x & y)      # Bitwise AND\n",
    "print(x | y)      # Bitwise OR\n",
    "print(x << 2 )    # Bitwise left_shift --- 'x' will become 010000\n",
    "print(x >> 1 )    # Bitwise right_shift ---- 'x' will become 010\n",
    "print( ~x )       # 1's compliment"
   ]
  },
  {
   "cell_type": "code",
   "execution_count": 53,
   "id": "a998b5bb",
   "metadata": {},
   "outputs": [
    {
     "name": "stdout",
     "output_type": "stream",
     "text": [
      "45\n",
      "40\n",
      "280\n",
      "1\n",
      "1\n"
     ]
    }
   ],
   "source": [
    "#Assignment Operator \n",
    "x = 40 \n",
    "x += 5\n",
    "print(x)\n",
    "x -= 5\n",
    "print(x) \n",
    "x *= 7\n",
    "print(x)\n",
    "x %= 3\n",
    "print(x)\n",
    "x &= 3\n",
    "print( x)  "
   ]
  },
  {
   "cell_type": "code",
   "execution_count": 48,
   "id": "2652b508",
   "metadata": {},
   "outputs": [],
   "source": [
    "#Identity Operator "
   ]
  },
  {
   "cell_type": "code",
   "execution_count": 54,
   "id": "3d77555f",
   "metadata": {},
   "outputs": [
    {
     "name": "stdout",
     "output_type": "stream",
     "text": [
      "True\n"
     ]
    }
   ],
   "source": [
    "x = 3\n",
    "y = 3\n",
    "print(x is y)"
   ]
  },
  {
   "cell_type": "code",
   "execution_count": 55,
   "id": "2ddc0cc1",
   "metadata": {},
   "outputs": [
    {
     "name": "stdout",
     "output_type": "stream",
     "text": [
      "True\n"
     ]
    }
   ],
   "source": [
    "x = \"Hello\"\n",
    "y = \"Hello\"\n",
    "print(x is y)"
   ]
  },
  {
   "cell_type": "code",
   "execution_count": 56,
   "id": "f88c83e9",
   "metadata": {},
   "outputs": [
    {
     "name": "stdout",
     "output_type": "stream",
     "text": [
      "False\n"
     ]
    }
   ],
   "source": [
    "x = [1,2,3]\n",
    "y = [1,2,3]\n",
    "print(x is y)"
   ]
  },
  {
   "cell_type": "code",
   "execution_count": 57,
   "id": "e6cced29",
   "metadata": {},
   "outputs": [
    {
     "name": "stdout",
     "output_type": "stream",
     "text": [
      "False\n"
     ]
    }
   ],
   "source": [
    "x = \"Hello-World\"\n",
    "y = \"Hello-World\"\n",
    "print(x is y)"
   ]
  },
  {
   "cell_type": "code",
   "execution_count": 5,
   "id": "0884f704",
   "metadata": {},
   "outputs": [
    {
     "name": "stdout",
     "output_type": "stream",
     "text": [
      "99\n",
      "0b100\n",
      "0o66\n",
      "0x36\n"
     ]
    }
   ],
   "source": [
    "#some useful function\n",
    "print(ord ('c'))   # Return the Unicode code point for a one-character string.\n",
    "print(bin(4))   # Return the binary representation of an integer.\n",
    "print(oct(54))    # Return the octal representation of an integer.\n",
    "print(hex(54))   # Return the hexadecimal representation of an integer.\n",
    "print(divmod(54)) # Return the tuple (x//y, x%y)"
   ]
  },
  {
   "cell_type": "code",
   "execution_count": 9,
   "id": "e7e5cbb4",
   "metadata": {
    "scrolled": true
   },
   "outputs": [
    {
     "ename": "NameError",
     "evalue": "name 'unicode' is not defined",
     "output_type": "error",
     "traceback": [
      "\u001b[1;31m---------------------------------------------------------------------------\u001b[0m",
      "\u001b[1;31mNameError\u001b[0m                                 Traceback (most recent call last)",
      "\u001b[1;32m~\\AppData\\Local\\Temp\\ipykernel_11844\\1772071147.py\u001b[0m in \u001b[0;36m<module>\u001b[1;34m\u001b[0m\n\u001b[1;32m----> 1\u001b[1;33m \u001b[0mhelp\u001b[0m\u001b[1;33m(\u001b[0m\u001b[0municode\u001b[0m\u001b[1;33m(\u001b[0m\u001b[1;33m)\u001b[0m\u001b[1;33m)\u001b[0m\u001b[1;33m\u001b[0m\u001b[1;33m\u001b[0m\u001b[0m\n\u001b[0m",
      "\u001b[1;31mNameError\u001b[0m: name 'unicode' is not defined"
     ]
    }
   ],
   "source": []
  },
  {
   "cell_type": "code",
   "execution_count": null,
   "id": "9672e3eb",
   "metadata": {},
   "outputs": [],
   "source": []
  }
 ],
 "metadata": {
  "kernelspec": {
   "display_name": "Python 3 (ipykernel)",
   "language": "python",
   "name": "python3"
  },
  "language_info": {
   "codemirror_mode": {
    "name": "ipython",
    "version": 3
   },
   "file_extension": ".py",
   "mimetype": "text/x-python",
   "name": "python",
   "nbconvert_exporter": "python",
   "pygments_lexer": "ipython3",
   "version": "3.9.13"
  }
 },
 "nbformat": 4,
 "nbformat_minor": 5
}
